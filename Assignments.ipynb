{
  "nbformat": 4,
  "nbformat_minor": 5,
  "metadata": {
    "kernelspec": {
      "display_name": "Python 3",
      "language": "python",
      "name": "python3"
    },
    "language_info": {
      "codemirror_mode": {
        "name": "ipython",
        "version": 3
      },
      "file_extension": ".py",
      "mimetype": "text/x-python",
      "name": "python",
      "nbconvert_exporter": "python",
      "pygments_lexer": "ipython3",
      "version": "3.8.8"
    },
    "colab": {
      "name": "Assignments.ipynb",
      "provenance": []
    }
  },
  "cells": [
    {
      "cell_type": "markdown",
      "metadata": {
        "id": "647527b8"
      },
      "source": [
        "***Employee Management System*** <br><br>\n",
        "**Functions**\n",
        "1. Create a function to enter a record of a single employyee (Employee Creation)\n",
        "2. Create a function to update a record of a single employyee (Employee Updation)\n",
        "3. Create a function to search a record of a single employyee (Employee Read)\n",
        "4. Create a function to delete a record of a single employyee (Employee Deletion)\n",
        "**Requirements**\n",
        "<li> Create a program which can do creation, updation, read and deletion in a single employee record\n",
        "<li> Employee data you guys need to store :\n",
        "<ul>\n",
        "<li>employee_id\n",
        "  <li>  employee_name <li>employee_type<li> employee_age <li>employee_status <li>employee_kids(if married else 0)<li>employee_years\n",
        "</ul>\n",
        "<li> There is no limit for employees\n",
        "<li> Create a program which ask user to first select what he/she wants to do. For Example : <br>\n",
        "    \n",
        "    1. Press 1 to enter a new employee record. <br>\n",
        "    2. Press 2 to update an existing record. <br>\n",
        "    3. Press 3 to search from the employee records. <br>\n",
        "    4. Press 4 to remove a record. <br>\n",
        "    5. Press q to exit the program.\n",
        "    \n",
        "<li> For every feature there will be a while loop so that user can continuously perform a single action as much as he/she wants. For Example : <br>\n",
        "    \n",
        "    1. Press 1 to enter a new employee\n",
        "    2. Press a to exit this feature \n",
        "    \n",
        "    \n",
        "<li> There can be multiple type of searches in the program. For Example : \n",
        "    \n",
        "    1. User can search using the type of employees. In this type of searching the result should be a list of users whose employee_type is same as the type of user wants to search.\n",
        "    2. User can search using an employee_id. In this type of searching the result should be the whole record of a particular employee.\n",
        "    3. User can search using the ages. In this type of searching the result should be the list of users whose employee_age is what the is searching for.\n",
        "    4. User can search using the status. For example, user wants to know the employees, who are single. In this type of searching, the result should be the list of employees who are single.\n",
        "\n"
      ],
      "id": "647527b8"
    },
    {
      "cell_type": "markdown",
      "metadata": {
        "id": "ece0327d"
      },
      "source": [
        "***School Management System*** <br><br>\n",
        "**Functions**\n",
        "1. Create a function to enter a record of a single character (Character Creation)\n",
        "2. Create a function to update a record of a single character (Character Updation)\n",
        "3. Create a function to search a record of a single character (Character Read)\n",
        "4. Create a function to delete a record of a single character (Character Deletion)\n",
        "\n",
        "**Note** <br>\n",
        "Q) What does it mean by a character.<br>\n",
        "A) In this type of program, a character can be a student, canteen staff, teacher, principle, office_boy<br><br>\n",
        "**Requirements**\n",
        "<li> Create a program which can do creation, updation, read and deletion in a single employee record\n",
        "<li> Employee data you guys need to store :\n",
        "<ul>\n",
        "<li>character_id\n",
        "  <li>  character_name <li>character_type<li> character_class (if student else 0) <li> character_age <li>character_status <li>character_kids(if married else 0)<li>character_years\n",
        "</ul>\n",
        "<li> There is no limit for character\n",
        "<li> Create a program which ask user to first select what he/she wants to do. For Example : <br>\n",
        "    \n",
        "    1. Press 1 to enter a new character record. <br>\n",
        "    2. Press 2 to update an existing record. <br>\n",
        "    3. Press 3 to search from the character records. <br>\n",
        "    4. Press 4 to remove a record. <br>\n",
        "    5. Press q to exit the program.\n",
        "    \n",
        "<li> For every feature there will be a while loop so that user can continuously perform a single action as much as he/she wants. For Example : <br>\n",
        "    \n",
        "    1. Press 1 to enter a new character\n",
        "    2. Press a to exit this feature \n",
        "    \n",
        "    \n",
        "<li> There can be multiple type of searches in the program. For Example : \n",
        "    \n",
        "    1. User can search using the type of characters. In this type of searching the result should be a list of users whose character_type is same as the type of user wants to search.\n",
        "    2. User can search using an character_id. In this type of searching the result should be the whole record of a particular character.\n",
        "    3. User can search using the ages. In this type of searching the result should be the list of users whose character_age is what the is searching for.\n",
        "    4. User can search using the status. For example, user wants to know the characters, who are single. In this type of searching, the result should be the list of characters who are single.\n",
        "    5. User can search using the class. For example, user can ask you to show all the students of class 7.\n",
        "    \n",
        "\n"
      ],
      "id": "ece0327d"
    },
    {
      "cell_type": "code",
      "metadata": {
        "id": "945744e0"
      },
      "source": [
        ""
      ],
      "id": "945744e0",
      "execution_count": null,
      "outputs": []
    }
  ]
}