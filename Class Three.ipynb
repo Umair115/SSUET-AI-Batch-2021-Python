{
 "cells": [
  {
   "cell_type": "code",
   "execution_count": 1,
   "metadata": {},
   "outputs": [],
   "source": [
    "cities = [\"Karachi\", \"Lahore\", \"Quetta\", \"Peshawar\", \"Multan\"]"
   ]
  },
  {
   "cell_type": "code",
   "execution_count": 2,
   "metadata": {},
   "outputs": [
    {
     "name": "stdout",
     "output_type": "stream",
     "text": [
      "['Karachi', 'Lahore', 'Quetta', 'Peshawar', 'Multan']\n"
     ]
    }
   ],
   "source": [
    "print(cities)"
   ]
  },
  {
   "cell_type": "code",
   "execution_count": 4,
   "metadata": {},
   "outputs": [
    {
     "name": "stdout",
     "output_type": "stream",
     "text": [
      "Because of Peshawar, Lahore is also out from PSL.\n"
     ]
    }
   ],
   "source": [
    "print(\"Because of \" + cities[3] + \", \" + cities[1] + \" is also out from PSL.\")"
   ]
  },
  {
   "cell_type": "code",
   "execution_count": 5,
   "metadata": {},
   "outputs": [],
   "source": [
    "cities.append('Islamabad')"
   ]
  },
  {
   "cell_type": "code",
   "execution_count": 6,
   "metadata": {},
   "outputs": [
    {
     "name": "stdout",
     "output_type": "stream",
     "text": [
      "['Karachi', 'Lahore', 'Quetta', 'Peshawar', 'Multan', 'Islamabad']\n"
     ]
    }
   ],
   "source": [
    "print(cities)"
   ]
  },
  {
   "cell_type": "code",
   "execution_count": 7,
   "metadata": {},
   "outputs": [],
   "source": [
    "cities = cities + ['Larkana', 'Kashmir']"
   ]
  },
  {
   "cell_type": "code",
   "execution_count": 8,
   "metadata": {},
   "outputs": [
    {
     "name": "stdout",
     "output_type": "stream",
     "text": [
      "['Karachi', 'Lahore', 'Quetta', 'Peshawar', 'Multan', 'Islamabad', 'Larkana', 'Kashmir']\n"
     ]
    }
   ],
   "source": [
    "print(cities)"
   ]
  },
  {
   "cell_type": "code",
   "execution_count": 11,
   "metadata": {},
   "outputs": [
    {
     "name": "stdout",
     "output_type": "stream",
     "text": [
      "Kashmir\n"
     ]
    }
   ],
   "source": [
    "print(cities[7])"
   ]
  },
  {
   "cell_type": "code",
   "execution_count": 12,
   "metadata": {},
   "outputs": [],
   "source": [
    "overall_cities = cities + ['Hyderabad', 'Sukkur', 'Nawabshah', 'AzadKashmir', 'Sialkot', 'Gawadar']"
   ]
  },
  {
   "cell_type": "code",
   "execution_count": 13,
   "metadata": {},
   "outputs": [
    {
     "name": "stdout",
     "output_type": "stream",
     "text": [
      "['Karachi', 'Lahore', 'Quetta', 'Peshawar', 'Multan', 'Islamabad', 'Larkana', 'Kashmir', 'Hyderabad', 'Sukkur', 'Nawabshah', 'AzadKashmir', 'Sialkot', 'Gawadar']\n"
     ]
    }
   ],
   "source": [
    "print(overall_cities)"
   ]
  },
  {
   "cell_type": "code",
   "execution_count": 14,
   "metadata": {},
   "outputs": [],
   "source": [
    "overall_cities.insert(3,'Rawalpindi')"
   ]
  },
  {
   "cell_type": "code",
   "execution_count": 15,
   "metadata": {},
   "outputs": [
    {
     "name": "stdout",
     "output_type": "stream",
     "text": [
      "['Karachi', 'Lahore', 'Quetta', 'Rawalpindi', 'Peshawar', 'Multan', 'Islamabad', 'Larkana', 'Kashmir', 'Hyderabad', 'Sukkur', 'Nawabshah', 'AzadKashmir', 'Sialkot', 'Gawadar']\n"
     ]
    }
   ],
   "source": [
    "print(overall_cities)"
   ]
  },
  {
   "cell_type": "code",
   "execution_count": 16,
   "metadata": {},
   "outputs": [],
   "source": [
    "overall_cities[0] = 'Quetta' #overall_cities[2]\n"
   ]
  },
  {
   "cell_type": "code",
   "execution_count": 17,
   "metadata": {},
   "outputs": [
    {
     "data": {
      "text/plain": [
       "['Quetta',\n",
       " 'Lahore',\n",
       " 'Quetta',\n",
       " 'Rawalpindi',\n",
       " 'Peshawar',\n",
       " 'Multan',\n",
       " 'Islamabad',\n",
       " 'Larkana',\n",
       " 'Kashmir',\n",
       " 'Hyderabad',\n",
       " 'Sukkur',\n",
       " 'Nawabshah',\n",
       " 'AzadKashmir',\n",
       " 'Sialkot',\n",
       " 'Gawadar']"
      ]
     },
     "execution_count": 17,
     "metadata": {},
     "output_type": "execute_result"
    }
   ],
   "source": [
    "overall_cities"
   ]
  },
  {
   "cell_type": "code",
   "execution_count": 18,
   "metadata": {},
   "outputs": [],
   "source": [
    "overall_cities[2] = 'Karachi'"
   ]
  },
  {
   "cell_type": "code",
   "execution_count": 19,
   "metadata": {},
   "outputs": [
    {
     "data": {
      "text/plain": [
       "['Quetta',\n",
       " 'Lahore',\n",
       " 'Karachi',\n",
       " 'Rawalpindi',\n",
       " 'Peshawar',\n",
       " 'Multan',\n",
       " 'Islamabad',\n",
       " 'Larkana',\n",
       " 'Kashmir',\n",
       " 'Hyderabad',\n",
       " 'Sukkur',\n",
       " 'Nawabshah',\n",
       " 'AzadKashmir',\n",
       " 'Sialkot',\n",
       " 'Gawadar']"
      ]
     },
     "execution_count": 19,
     "metadata": {},
     "output_type": "execute_result"
    }
   ],
   "source": [
    "overall_cities"
   ]
  },
  {
   "cell_type": "code",
   "execution_count": 20,
   "metadata": {},
   "outputs": [
    {
     "data": {
      "text/plain": [
       "'Quetta'"
      ]
     },
     "execution_count": 20,
     "metadata": {},
     "output_type": "execute_result"
    }
   ],
   "source": [
    "overall_cities[0]"
   ]
  },
  {
   "cell_type": "code",
   "execution_count": 21,
   "metadata": {},
   "outputs": [
    {
     "data": {
      "text/plain": [
       "'Lahore'"
      ]
     },
     "execution_count": 21,
     "metadata": {},
     "output_type": "execute_result"
    }
   ],
   "source": [
    "overall_cities[1]"
   ]
  },
  {
   "cell_type": "code",
   "execution_count": 22,
   "metadata": {},
   "outputs": [],
   "source": [
    "temp_city = overall_cities[0]\n",
    "overall_cities[0] = overall_cities[1]\n",
    "overall_cities[1] = temp_city"
   ]
  },
  {
   "cell_type": "code",
   "execution_count": 23,
   "metadata": {},
   "outputs": [
    {
     "data": {
      "text/plain": [
       "['Lahore',\n",
       " 'Quetta',\n",
       " 'Karachi',\n",
       " 'Rawalpindi',\n",
       " 'Peshawar',\n",
       " 'Multan',\n",
       " 'Islamabad',\n",
       " 'Larkana',\n",
       " 'Kashmir',\n",
       " 'Hyderabad',\n",
       " 'Sukkur',\n",
       " 'Nawabshah',\n",
       " 'AzadKashmir',\n",
       " 'Sialkot',\n",
       " 'Gawadar']"
      ]
     },
     "execution_count": 23,
     "metadata": {},
     "output_type": "execute_result"
    }
   ],
   "source": [
    "overall_cities"
   ]
  },
  {
   "cell_type": "code",
   "execution_count": 24,
   "metadata": {},
   "outputs": [],
   "source": [
    "cities = [\"Atlanta\", \"Baltimore\", \"Chicago\",\n",
    "\"Denver\", \"Los Angeles\", \"Seattle\"]"
   ]
  },
  {
   "cell_type": "code",
   "execution_count": 25,
   "metadata": {},
   "outputs": [
    {
     "data": {
      "text/plain": [
       "['Atlanta', 'Baltimore', 'Chicago', 'Denver', 'Los Angeles', 'Seattle']"
      ]
     },
     "execution_count": 25,
     "metadata": {},
     "output_type": "execute_result"
    }
   ],
   "source": [
    "cities"
   ]
  },
  {
   "cell_type": "code",
   "execution_count": 26,
   "metadata": {},
   "outputs": [
    {
     "name": "stdout",
     "output_type": "stream",
     "text": [
      "['Baltimore', 'Chicago', 'Denver', 'Los Angeles']\n"
     ]
    }
   ],
   "source": [
    "print(cities[1:5])"
   ]
  },
  {
   "cell_type": "code",
   "execution_count": 33,
   "metadata": {},
   "outputs": [
    {
     "name": "stdout",
     "output_type": "stream",
     "text": [
      "['Gawadar', 'Sialkot', 'AzadKashmir', 'Nawabshah', 'Sukkur', 'Hyderabad', 'Kashmir', 'Larkana', 'Islamabad', 'Multan', 'Peshawar', 'Rawalpindi', 'Karachi', 'Quetta', 'Lahore']\n"
     ]
    }
   ],
   "source": [
    "print(overall_cities[::-1])"
   ]
  },
  {
   "cell_type": "code",
   "execution_count": 34,
   "metadata": {},
   "outputs": [],
   "source": [
    "overall_cities.remove('AzadKashmir')"
   ]
  },
  {
   "cell_type": "code",
   "execution_count": 35,
   "metadata": {},
   "outputs": [
    {
     "name": "stdout",
     "output_type": "stream",
     "text": [
      "['Lahore', 'Quetta', 'Karachi', 'Rawalpindi', 'Peshawar', 'Multan', 'Islamabad', 'Larkana', 'Kashmir', 'Hyderabad', 'Sukkur', 'Nawabshah', 'Sialkot', 'Gawadar']\n"
     ]
    }
   ],
   "source": [
    "print(overall_cities)"
   ]
  },
  {
   "cell_type": "code",
   "execution_count": 36,
   "metadata": {},
   "outputs": [],
   "source": [
    "del overall_cities[12]"
   ]
  },
  {
   "cell_type": "code",
   "execution_count": 44,
   "metadata": {},
   "outputs": [
    {
     "data": {
      "text/plain": [
       "['Lahore',\n",
       " 'Peshawar',\n",
       " 'Multan',\n",
       " 'Islamabad',\n",
       " 'Larkana',\n",
       " 'Kashmir',\n",
       " 'Hyderabad',\n",
       " 'Sukkur',\n",
       " 'Nawabshah',\n",
       " 'Gawadar']"
      ]
     },
     "execution_count": 44,
     "metadata": {},
     "output_type": "execute_result"
    }
   ],
   "source": [
    "overall_cities"
   ]
  },
  {
   "cell_type": "code",
   "execution_count": 38,
   "metadata": {},
   "outputs": [],
   "source": [
    "sindh_cities = []"
   ]
  },
  {
   "cell_type": "code",
   "execution_count": 42,
   "metadata": {},
   "outputs": [],
   "source": [
    "sindh_cities.append(overall_cities.pop(1))"
   ]
  },
  {
   "cell_type": "code",
   "execution_count": 43,
   "metadata": {},
   "outputs": [
    {
     "data": {
      "text/plain": [
       "['Rawalpindi', 'Quetta']"
      ]
     },
     "execution_count": 43,
     "metadata": {},
     "output_type": "execute_result"
    }
   ],
   "source": [
    "sindh_cities"
   ]
  },
  {
   "cell_type": "code",
   "execution_count": 45,
   "metadata": {},
   "outputs": [
    {
     "data": {
      "text/plain": [
       "['Lahore',\n",
       " 'Peshawar',\n",
       " 'Multan',\n",
       " 'Islamabad',\n",
       " 'Larkana',\n",
       " 'Kashmir',\n",
       " 'Hyderabad',\n",
       " 'Sukkur',\n",
       " 'Nawabshah',\n",
       " 'Gawadar']"
      ]
     },
     "execution_count": 45,
     "metadata": {},
     "output_type": "execute_result"
    }
   ],
   "source": [
    "overall_cities"
   ]
  },
  {
   "cell_type": "code",
   "execution_count": 46,
   "metadata": {},
   "outputs": [],
   "source": [
    "sindh_cities = overall_cities.pop(2)"
   ]
  },
  {
   "cell_type": "code",
   "execution_count": 47,
   "metadata": {},
   "outputs": [
    {
     "name": "stdout",
     "output_type": "stream",
     "text": [
      "Multan\n"
     ]
    }
   ],
   "source": [
    "print(sindh_cities)"
   ]
  },
  {
   "cell_type": "code",
   "execution_count": null,
   "metadata": {},
   "outputs": [],
   "source": []
  }
 ],
 "metadata": {
  "kernelspec": {
   "display_name": "Python 3",
   "language": "python",
   "name": "python3"
  },
  "language_info": {
   "codemirror_mode": {
    "name": "ipython",
    "version": 3
   },
   "file_extension": ".py",
   "mimetype": "text/x-python",
   "name": "python",
   "nbconvert_exporter": "python",
   "pygments_lexer": "ipython3",
   "version": "3.8.3"
  }
 },
 "nbformat": 4,
 "nbformat_minor": 4
}
