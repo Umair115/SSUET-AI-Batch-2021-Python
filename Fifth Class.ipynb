{
 "cells": [
  {
   "cell_type": "code",
   "execution_count": 3,
   "metadata": {},
   "outputs": [],
   "source": [
    "contact_book = {\n",
    "    'umair' : '+923431279121',\n",
    "    'ammar' : '03352899624',\n",
    "    'umair' : '03641412641'\n",
    "}"
   ]
  },
  {
   "cell_type": "code",
   "execution_count": 4,
   "metadata": {},
   "outputs": [
    {
     "name": "stdout",
     "output_type": "stream",
     "text": [
      "03641412641\n"
     ]
    }
   ],
   "source": [
    "print(contact_book['umair'])"
   ]
  },
  {
   "cell_type": "code",
   "execution_count": 5,
   "metadata": {},
   "outputs": [],
   "source": [
    "contact_book['test'] = '090078601'"
   ]
  },
  {
   "cell_type": "code",
   "execution_count": 6,
   "metadata": {},
   "outputs": [
    {
     "name": "stdout",
     "output_type": "stream",
     "text": [
      "{'umair': '03641412641', 'ammar': '03352899624', 'test': '090078601'}\n"
     ]
    }
   ],
   "source": [
    "print(contact_book)"
   ]
  },
  {
   "cell_type": "code",
   "execution_count": 7,
   "metadata": {},
   "outputs": [],
   "source": [
    "del contact_book['test']"
   ]
  },
  {
   "cell_type": "code",
   "execution_count": 8,
   "metadata": {},
   "outputs": [
    {
     "name": "stdout",
     "output_type": "stream",
     "text": [
      "{'umair': '03641412641', 'ammar': '03352899624'}\n"
     ]
    }
   ],
   "source": [
    "print(contact_book)"
   ]
  },
  {
   "cell_type": "code",
   "execution_count": 11,
   "metadata": {},
   "outputs": [
    {
     "data": {
      "text/plain": [
       "dict_items([('umair', '03641412641'), ('ammar', '03352899624')])"
      ]
     },
     "execution_count": 11,
     "metadata": {},
     "output_type": "execute_result"
    }
   ],
   "source": [
    "contact_book.items()"
   ]
  },
  {
   "cell_type": "code",
   "execution_count": 12,
   "metadata": {},
   "outputs": [],
   "source": [
    "contact_book['test'] = '090078601'"
   ]
  },
  {
   "cell_type": "code",
   "execution_count": 13,
   "metadata": {},
   "outputs": [],
   "source": [
    "contact_book['test1'] = '090078601'"
   ]
  },
  {
   "cell_type": "code",
   "execution_count": 14,
   "metadata": {},
   "outputs": [],
   "source": [
    "contact_book['test2'] = '090078601'"
   ]
  },
  {
   "cell_type": "code",
   "execution_count": 15,
   "metadata": {},
   "outputs": [
    {
     "data": {
      "text/plain": [
       "{'umair': '03641412641',\n",
       " 'ammar': '03352899624',\n",
       " 'test': '090078601',\n",
       " 'test1': '090078601',\n",
       " 'test2': '090078601'}"
      ]
     },
     "execution_count": 15,
     "metadata": {},
     "output_type": "execute_result"
    }
   ],
   "source": [
    "contact_book"
   ]
  },
  {
   "cell_type": "code",
   "execution_count": 18,
   "metadata": {},
   "outputs": [
    {
     "name": "stdout",
     "output_type": "stream",
     "text": [
      "umair 03641412641\n",
      "ammar 03352899624\n",
      "test 090078601\n",
      "test1 090078601\n",
      "test2 090078601\n"
     ]
    }
   ],
   "source": [
    "for key,value in contact_book.items():\n",
    "    print(key, value)"
   ]
  },
  {
   "cell_type": "markdown",
   "metadata": {},
   "source": [
    "1) user se input lo, username, number, email\n",
    "2) us detail ki ek dictionary bnalo\n",
    "3) ek empty list bnao sab details ki\n",
    "4) us empty list me dictionaries append krwate jao\n"
   ]
  },
  {
   "cell_type": "code",
   "execution_count": 19,
   "metadata": {},
   "outputs": [],
   "source": [
    "customers = []"
   ]
  },
  {
   "cell_type": "code",
   "execution_count": 24,
   "metadata": {},
   "outputs": [
    {
     "name": "stdout",
     "output_type": "stream",
     "text": [
      "Enter Your Username : Test\n",
      "Enter Your Number : 090078601\n",
      "Enter Your Email : test@test.com\n"
     ]
    }
   ],
   "source": [
    "username = input(\"Enter Your Username : \")\n",
    "number = input(\"Enter Your Number : \")\n",
    "email = input(\"Enter Your Email : \")\n",
    "temp_dict = {}\n",
    "\n",
    "temp_dict['_username'] = username\n",
    "temp_dict['_number'] = number\n",
    "temp_dict['_email'] = email\n",
    "\n",
    "customers.append(temp_dict)"
   ]
  },
  {
   "cell_type": "code",
   "execution_count": 31,
   "metadata": {},
   "outputs": [
    {
     "name": "stdout",
     "output_type": "stream",
     "text": [
      "[{'_username': 'Umair', '_number': '03431279121', '_email': 'umar42795@gmail.com'}, {'_username': 'Ammar', '_number': '03352899624'}, {'_username': 'Test', '_number': '090078601', '_email': 'test@test.com'}]\n"
     ]
    }
   ],
   "source": [
    "print(customers)"
   ]
  },
  {
   "cell_type": "code",
   "execution_count": 28,
   "metadata": {},
   "outputs": [],
   "source": [
    "customers[1]['_email'] = 'ammarshehzad@gmail.com'"
   ]
  },
  {
   "cell_type": "code",
   "execution_count": 30,
   "metadata": {},
   "outputs": [],
   "source": [
    "del customers[1]['_email']"
   ]
  },
  {
   "cell_type": "code",
   "execution_count": 34,
   "metadata": {},
   "outputs": [
    {
     "data": {
      "text/plain": [
       "2"
      ]
     },
     "execution_count": 34,
     "metadata": {},
     "output_type": "execute_result"
    }
   ],
   "source": [
    "len(customers[1])"
   ]
  },
  {
   "cell_type": "code",
   "execution_count": 35,
   "metadata": {},
   "outputs": [],
   "source": [
    "customer_29876 = {\n",
    "\"first name\": \"David\",\n",
    "\"last name\": \"Elliott\",\n",
    "\"address\": \"4803 Wellesley St.\",\n",
    "}"
   ]
  },
  {
   "cell_type": "code",
   "execution_count": 36,
   "metadata": {},
   "outputs": [
    {
     "data": {
      "text/plain": [
       "{'first name': 'David',\n",
       " 'last name': 'Elliott',\n",
       " 'address': '4803 Wellesley St.'}"
      ]
     },
     "execution_count": 36,
     "metadata": {},
     "output_type": "execute_result"
    }
   ],
   "source": [
    "customer_29876"
   ]
  },
  {
   "cell_type": "code",
   "execution_count": 37,
   "metadata": {},
   "outputs": [],
   "source": [
    "contact_numbers = ['03000124581', '45910564107', '5179821265']"
   ]
  },
  {
   "cell_type": "code",
   "execution_count": 38,
   "metadata": {},
   "outputs": [],
   "source": [
    "customer_29876['numbers'] = contact_numbers"
   ]
  },
  {
   "cell_type": "code",
   "execution_count": 39,
   "metadata": {},
   "outputs": [
    {
     "data": {
      "text/plain": [
       "{'first name': 'David',\n",
       " 'last name': 'Elliott',\n",
       " 'address': '4803 Wellesley St.',\n",
       " 'numbers': ['03000124581', '45910564107', '5179821265']}"
      ]
     },
     "execution_count": 39,
     "metadata": {},
     "output_type": "execute_result"
    }
   ],
   "source": [
    "customer_29876"
   ]
  },
  {
   "cell_type": "code",
   "execution_count": 41,
   "metadata": {},
   "outputs": [
    {
     "data": {
      "text/plain": [
       "'45910564107'"
      ]
     },
     "execution_count": 41,
     "metadata": {},
     "output_type": "execute_result"
    }
   ],
   "source": [
    "customer_29876['numbers'][1]"
   ]
  },
  {
   "cell_type": "code",
   "execution_count": 42,
   "metadata": {},
   "outputs": [],
   "source": [
    "dict_customers = {}"
   ]
  },
  {
   "cell_type": "code",
   "execution_count": 47,
   "metadata": {},
   "outputs": [
    {
     "name": "stdout",
     "output_type": "stream",
     "text": [
      "Enter Your Username : Test\n",
      "Enter Your Number : 090078601\n",
      "Enter Your Email : test@test.com\n"
     ]
    }
   ],
   "source": [
    "username = input(\"Enter Your Username : \")\n",
    "number = input(\"Enter Your Number : \")\n",
    "email = input(\"Enter Your Email : \")\n",
    "temp_dict = {}\n",
    "\n",
    "temp_dict['_username'] = username\n",
    "temp_dict['_number'] = number\n",
    "temp_dict['_email'] = email\n",
    "\n",
    "dict_customers[email] = temp_dict"
   ]
  },
  {
   "cell_type": "code",
   "execution_count": 52,
   "metadata": {},
   "outputs": [
    {
     "name": "stdout",
     "output_type": "stream",
     "text": [
      "{'umair@test.com': {'_username': 'Umair Shehzad', '_number': '03431279121', '_email': 'umair@test.com'}, 'ammar@test.com': {'_username': 'Ammar', '_number': '03352899624', '_email': 'ammar@test.com'}, 'test@test.com': {'_username': 'Test', '_number': '090078601', '_email': 'test@test.com'}}\n"
     ]
    }
   ],
   "source": [
    "print(dict_customers)"
   ]
  },
  {
   "cell_type": "code",
   "execution_count": 50,
   "metadata": {},
   "outputs": [
    {
     "data": {
      "text/plain": [
       "'Umair'"
      ]
     },
     "execution_count": 50,
     "metadata": {},
     "output_type": "execute_result"
    }
   ],
   "source": [
    "dict_customers['umair@test.com']['_username']"
   ]
  },
  {
   "cell_type": "code",
   "execution_count": 51,
   "metadata": {},
   "outputs": [],
   "source": [
    "dict_customers['umair@test.com']['_username'] = 'Umair Shehzad'"
   ]
  },
  {
   "cell_type": "code",
   "execution_count": null,
   "metadata": {},
   "outputs": [],
   "source": []
  }
 ],
 "metadata": {
  "kernelspec": {
   "display_name": "Python 3",
   "language": "python",
   "name": "python3"
  },
  "language_info": {
   "codemirror_mode": {
    "name": "ipython",
    "version": 3
   },
   "file_extension": ".py",
   "mimetype": "text/x-python",
   "name": "python",
   "nbconvert_exporter": "python",
   "pygments_lexer": "ipython3",
   "version": "3.8.3"
  }
 },
 "nbformat": 4,
 "nbformat_minor": 4
}
