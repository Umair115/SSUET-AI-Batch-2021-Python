{
 "cells": [
  {
   "cell_type": "markdown",
   "metadata": {},
   "source": [
    "Functions: Dealing with an unknown\n",
    "number of arguments"
   ]
  },
  {
   "cell_type": "code",
   "execution_count": 6,
   "metadata": {},
   "outputs": [],
   "source": [
    "def display_result(pizza_type, pizza_flavor, **other_info):\n",
    "    print(\"Your Selected Pizza Flavor Is\",pizza_flavor)\n",
    "    print(\"Your Selected Pizza Type Is\",pizza_type)\n",
    "    for i,j in other_info.items():\n",
    "        print(\"Your Selected\",i,\"Is\",j)"
   ]
  },
  {
   "cell_type": "code",
   "execution_count": 7,
   "metadata": {},
   "outputs": [
    {
     "name": "stdout",
     "output_type": "stream",
     "text": [
      "Your Selected Pizza Flavor Is Spicy\n",
      "Your Selected Pizza Type Is Extra Large\n",
      "Your Selected topping1 Is Cheese\n",
      "Your Selected topping2 Is Olives\n",
      "Your Selected colddrink Is Pepsi\n"
     ]
    }
   ],
   "source": [
    "display_result('Extra Large', 'Spicy', topping1='Cheese', topping2='Olives', colddrink='Pepsi')"
   ]
  },
  {
   "cell_type": "code",
   "execution_count": 8,
   "metadata": {},
   "outputs": [
    {
     "name": "stdout",
     "output_type": "stream",
     "text": [
      "Your Selected Pizza Flavor Is Spicy\n",
      "Your Selected Pizza Type Is Extra Large\n"
     ]
    }
   ],
   "source": [
    "display_result('Extra Large', 'Spicy')"
   ]
  },
  {
   "cell_type": "code",
   "execution_count": 11,
   "metadata": {},
   "outputs": [],
   "source": [
    "def add_numbers(num1,num2,*numbers):\n",
    "    result = num1 + num2 \n",
    "    for i in numbers:\n",
    "        result = result + i\n",
    "    print(result)"
   ]
  },
  {
   "cell_type": "code",
   "execution_count": 12,
   "metadata": {},
   "outputs": [
    {
     "name": "stdout",
     "output_type": "stream",
     "text": [
      "10\n"
     ]
    }
   ],
   "source": [
    "add_numbers(2,3,5)"
   ]
  },
  {
   "cell_type": "code",
   "execution_count": 13,
   "metadata": {},
   "outputs": [],
   "source": [
    "def Sub_numbers(num1,num2,*numbers):\n",
    "    result = num1 - num2 \n",
    "    for i in numbers:\n",
    "        result = result - i\n",
    "    print(result)"
   ]
  },
  {
   "cell_type": "code",
   "execution_count": 14,
   "metadata": {},
   "outputs": [
    {
     "name": "stdout",
     "output_type": "stream",
     "text": [
      "-1\n"
     ]
    }
   ],
   "source": [
    " Sub_numbers(5,6)"
   ]
  },
  {
   "cell_type": "code",
   "execution_count": 16,
   "metadata": {},
   "outputs": [
    {
     "name": "stdout",
     "output_type": "stream",
     "text": [
      "Hello From User\n",
      "Hello From Function\n"
     ]
    }
   ],
   "source": [
    "greeting = \"Hello From User\"\n",
    "def showHello():\n",
    "    greet = \"Hello From Function\"\n",
    "    print(greet)\n",
    "print(greeting)\n",
    "showHello()"
   ]
  },
  {
   "cell_type": "code",
   "execution_count": 21,
   "metadata": {},
   "outputs": [],
   "source": [
    "while user_input != 'q':\n",
    "    user_input = input(\"Enter a number, or q to quit \")\n",
    "    print(user_input)"
   ]
  },
  {
   "cell_type": "markdown",
   "metadata": {},
   "source": [
    "1. Create a program which takes 2 numbers as an input and add them\n",
    "2. Make this program iteratable until user press q\n",
    "3. If user press q terminate the program"
   ]
  },
  {
   "cell_type": "code",
   "execution_count": 22,
   "metadata": {},
   "outputs": [
    {
     "name": "stdout",
     "output_type": "stream",
     "text": [
      "Enter Number 15\n",
      "Enter Number 26\n",
      "11\n",
      "Enter any word to continue else press q to exitq\n"
     ]
    }
   ],
   "source": [
    "user_entered_value = \"\"\n",
    "while user_entered_value != 'q':\n",
    "    num1 = int(input(\"Enter Number 1 \"))\n",
    "    num2 = int(input(\"Enter Number 2 \"))\n",
    "    print(num1+num2)\n",
    "    user_entered_value = input(\"Enter any word to continue else press q to exit\")"
   ]
  },
  {
   "cell_type": "markdown",
   "metadata": {},
   "source": [
    "1. Create a customer data entry system\n",
    "2. Get Informations Such As : name, f_name, age, city, country, gender, cnic, family_members\n",
    "3. Create a dictionary for every customer\n",
    "4. Create a list of all dictionaries (list of dictionaries)\n",
    "5. Continue this program until user press \"q\""
   ]
  },
  {
   "cell_type": "code",
   "execution_count": null,
   "metadata": {},
   "outputs": [],
   "source": []
  }
 ],
 "metadata": {
  "kernelspec": {
   "display_name": "Python 3",
   "language": "python",
   "name": "python3"
  },
  "language_info": {
   "codemirror_mode": {
    "name": "ipython",
    "version": 3
   },
   "file_extension": ".py",
   "mimetype": "text/x-python",
   "name": "python",
   "nbconvert_exporter": "python",
   "pygments_lexer": "ipython3",
   "version": "3.8.3"
  }
 },
 "nbformat": 4,
 "nbformat_minor": 4
}
