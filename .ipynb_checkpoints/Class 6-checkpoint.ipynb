{
 "cells": [
  {
   "cell_type": "markdown",
   "metadata": {
    "id": "BXmjOwhJDMLb"
   },
   "source": [
    "**Q1)** Assign 8 to the variable x and 15 to the variable y. \n",
    "\n",
    "In the same cell, create 2 conditional statements.\n",
    "\n",
    "Let the first one print \"At least one of the conditions is satisfied.\" if x is greater than 3 or y is even.\n",
    "\n",
    "Let the second one print \"Neither condition is satisfied.\" if x is less than or equal to 3 and y is odd.\n",
    "\n",
    "Change the values assigned to x and y and re-run the cell to verify your code still works."
   ]
  },
  {
   "cell_type": "code",
   "execution_count": 1,
   "metadata": {
    "id": "XIm30wBpDJcC"
   },
   "outputs": [
    {
     "name": "stdout",
     "output_type": "stream",
     "text": [
      "Neither condition is satisfied\n"
     ]
    }
   ],
   "source": [
    "x = 8\n",
    "y = 15\n",
    "\n",
    "if 3 > x or y % 2 == 0:\n",
    "    print(\"At least one of the conditions is satisfied\")\n",
    "elif x <= 3 or y % 2 != 0:\n",
    "    print(\"Neither condition is satisfied\")\n",
    "else: \n",
    "    print(\"BYE!!!!!\")"
   ]
  },
  {
   "cell_type": "markdown",
   "metadata": {
    "id": "-lYBJT5VDetC"
   },
   "source": [
    "**Q2)** Write a Python program to find those numbers which are divisible by 7 and multiple of 5, between 1500 and 2700 (both included)"
   ]
  },
  {
   "cell_type": "code",
   "execution_count": 3,
   "metadata": {
    "id": "tJt1cPAGDf_o"
   },
   "outputs": [
    {
     "name": "stdout",
     "output_type": "stream",
     "text": [
      "1505\n",
      "1540\n",
      "1575\n",
      "1610\n",
      "1645\n",
      "1680\n",
      "1715\n",
      "1750\n",
      "1785\n",
      "1820\n",
      "1855\n",
      "1890\n",
      "1925\n",
      "1960\n",
      "1995\n",
      "2030\n",
      "2065\n",
      "2100\n",
      "2135\n",
      "2170\n",
      "2205\n",
      "2240\n",
      "2275\n",
      "2310\n",
      "2345\n",
      "2380\n",
      "2415\n",
      "2450\n",
      "2485\n",
      "2520\n",
      "2555\n",
      "2590\n",
      "2625\n",
      "2660\n",
      "2695\n"
     ]
    }
   ],
   "source": [
    "for i in range(1500,2701):\n",
    "    if i % 7 ==0 and i % 5==0:\n",
    "        print(i)"
   ]
  },
  {
   "cell_type": "markdown",
   "metadata": {
    "id": "-JQtTfeXDjF6"
   },
   "source": [
    "**Q3)** Write a Python program to add the numbers from a series of numbers <br>\n",
    "Sample numbers : numbers = (1, 2, 3, 4, 5, 6, 7, 8, 9) \n"
   ]
  },
  {
   "cell_type": "code",
   "execution_count": 8,
   "metadata": {
    "id": "xJVCH9dRDnZ5"
   },
   "outputs": [
    {
     "name": "stdout",
     "output_type": "stream",
     "text": [
      "1\n",
      "3\n",
      "6\n",
      "10\n",
      "15\n",
      "21\n",
      "28\n",
      "36\n",
      "45\n"
     ]
    }
   ],
   "source": [
    "result = 0\n",
    "for i in range(1,10):\n",
    "    result = result + i\n",
    "    print(result)\n",
    "# print(result)"
   ]
  },
  {
   "cell_type": "markdown",
   "metadata": {
    "id": "VywP15FKDruy"
   },
   "source": [
    "**Q4)** Write a Python program that accepts a word from the user and reverse it."
   ]
  },
  {
   "cell_type": "code",
   "execution_count": 9,
   "metadata": {
    "id": "kyUcPrHoDsTp"
   },
   "outputs": [
    {
     "name": "stdout",
     "output_type": "stream",
     "text": [
      "Enter any word Umair\n",
      "riamU\n"
     ]
    }
   ],
   "source": [
    "word = input(\"Enter any word \")\n",
    "print(word[::-1])"
   ]
  },
  {
   "cell_type": "markdown",
   "metadata": {
    "id": "XJujlqRpIJ-l"
   },
   "source": [
    "**Q5)** Write a Python program which iterates the integers from 1 to 50. For multiples of three print \"Fizz\" instead of the number and for the multiples of five print \"Buzz\". For numbers which are multiples of both three and five print \"FizzBuzz\".<br>\n",
    "Sample Output : <br>\n",
    "fizzbuzz <br>\n",
    "1 <br>\n",
    "2 <br>\n",
    "fizz <br>\n",
    "4 <br>\n",
    "buzz <br>"
   ]
  },
  {
   "cell_type": "markdown",
   "metadata": {
    "id": "tHoTofxcJiWm"
   },
   "source": [
    "\n",
    "\n",
    "---\n",
    "\n",
    "\n",
    "\n",
    "---\n",
    "\n",
    "\n",
    "**Continue Keyword** <br>\n",
    "The continue statement in Python returns the control to the beginning of the while loop. The continue statement rejects all the remaining statements in the current iteration of the loop and moves the control back to the top of the loop. The continue statement can be used in both while and for loops.\n",
    "\n",
    "\n",
    "\n",
    "---\n",
    "\n",
    "\n",
    "\n",
    "---\n",
    "\n",
    "\n",
    "\n"
   ]
  },
  {
   "cell_type": "code",
   "execution_count": 10,
   "metadata": {
    "id": "5DXVlwNhHsKM"
   },
   "outputs": [
    {
     "name": "stdout",
     "output_type": "stream",
     "text": [
      "1\n",
      "2\n",
      "Fizz\n",
      "4\n",
      "Buzz\n",
      "Fizz\n",
      "7\n",
      "8\n",
      "Fizz\n",
      "Buzz\n",
      "11\n",
      "Fizz\n",
      "13\n",
      "14\n",
      "FIzzBuzz\n",
      "16\n",
      "17\n",
      "Fizz\n",
      "19\n",
      "Buzz\n",
      "Fizz\n",
      "22\n",
      "23\n",
      "Fizz\n",
      "Buzz\n",
      "26\n",
      "Fizz\n",
      "28\n",
      "29\n",
      "FIzzBuzz\n",
      "31\n",
      "32\n",
      "Fizz\n",
      "34\n",
      "Buzz\n",
      "Fizz\n",
      "37\n",
      "38\n",
      "Fizz\n",
      "Buzz\n",
      "41\n",
      "Fizz\n",
      "43\n",
      "44\n",
      "FIzzBuzz\n",
      "46\n",
      "47\n",
      "Fizz\n",
      "49\n",
      "Buzz\n"
     ]
    }
   ],
   "source": [
    "for i in range(1,51):\n",
    "    if (i % 3 == 0) and (i % 5 == 0):\n",
    "        print(\"FIzzBuzz\")\n",
    "        continue\n",
    "    elif (i % 3 == 0):\n",
    "        print(\"Fizz\")\n",
    "    elif (i % 5 == 0):\n",
    "        print(\"Buzz\")\n",
    "    else:\n",
    "        print(i)"
   ]
  },
  {
   "cell_type": "markdown",
   "metadata": {
    "id": "YntHEUvDKgH5"
   },
   "source": [
    "**Q6)**  Print pattern: <br>\n",
    "1 <br>\n",
    "1 2 <br>\n",
    "1 2 3 <br>\n",
    "1 2 3 4 <br>\n",
    "1 2 3 4 5 <br>\n",
    "\n"
   ]
  },
  {
   "cell_type": "markdown",
   "metadata": {
    "id": "6B9BNUwGPF80"
   },
   "source": [
    "\n",
    "\n",
    "---\n",
    "\n",
    "\n",
    "\n",
    "---\n",
    "\n",
    "\n",
    "**End Keyword** <br>\n",
    "Python’s print() function comes with a parameter called ‘end’. By default, the value of this parameter is ‘\\n’, i.e. the new line character. You can end a print statement with any character/string using this parameter.\n",
    "\n",
    "\n",
    "---\n",
    "\n",
    "\n",
    "\n",
    "---\n",
    "\n",
    "\n",
    "\n"
   ]
  },
  {
   "cell_type": "code",
   "execution_count": 12,
   "metadata": {
    "id": "tOaF52U-IqOL"
   },
   "outputs": [
    {
     "name": "stdout",
     "output_type": "stream",
     "text": [
      "1 \n",
      "1 2 \n",
      "1 2 3 \n",
      "1 2 3 4 \n",
      "1 2 3 4 5 \n"
     ]
    }
   ],
   "source": [
    "for i in range(1,6):\n",
    "    for j in range(i):\n",
    "        print(j+1,end=\" \")\n",
    "    print()"
   ]
  },
  {
   "cell_type": "markdown",
   "metadata": {
    "id": "-gQuuBV0LYGD"
   },
   "source": [
    "**Q7)** Print pattern: <br>\n",
    "1 <br>\n",
    "1 2 <br>\n",
    "1 2 3 <br>\n",
    "1 2 3 4 <br>\n",
    "1 2 3 4 5 <br>\n",
    "1 2 3 4 5 <br>\n",
    "1 2 3 4 <br>\n",
    "1 2 3 <br>\n",
    "1 2 <br>\n",
    "1 <br>\n"
   ]
  },
  {
   "cell_type": "code",
   "execution_count": 15,
   "metadata": {
    "id": "QVHCyokGKKlF"
   },
   "outputs": [
    {
     "name": "stdout",
     "output_type": "stream",
     "text": [
      "1 \n",
      "1 2 \n",
      "1 2 3 \n",
      "1 2 3 4 \n",
      "1 2 3 4 5 \n",
      "1 2 3 4 5 \n",
      "1 2 3 4 \n",
      "1 2 3 \n",
      "1 2 \n",
      "1 \n"
     ]
    }
   ],
   "source": [
    "for i in range(1,6):\n",
    "    for j in range(i):\n",
    "        print(j+1,end=\" \")\n",
    "    print()\n",
    "for i in range(5,0,-1):\n",
    "    for j in range(i):\n",
    "        print(j+1,end=\" \")\n",
    "    print()"
   ]
  },
  {
   "cell_type": "markdown",
   "metadata": {
    "id": "wl9MNr4dN1Cz"
   },
   "source": [
    "**Q8)** Print pattern: <br>\n",
    "1 <br>\n",
    "1 2 <br>\n",
    "1 2 3 <br>\n",
    "1 2 3 4 <br>\n",
    "1 2 3 4 5 <br>\n",
    "1 2 3 4 <br>\n",
    "1 2 3 <br>\n",
    "1 2 <br>\n",
    "1 <br>"
   ]
  },
  {
   "cell_type": "code",
   "execution_count": 16,
   "metadata": {
    "id": "VKXeGq1JLW25"
   },
   "outputs": [
    {
     "name": "stdout",
     "output_type": "stream",
     "text": [
      "1 \n",
      "1 2 \n",
      "1 2 3 \n",
      "1 2 3 4 \n",
      "1 2 3 4 5 \n",
      "1 2 3 4 \n",
      "1 2 3 \n",
      "1 2 \n",
      "1 \n"
     ]
    }
   ],
   "source": [
    "for i in range(1,6):\n",
    "    for j in range(i):\n",
    "        print(j+1,end=\" \")\n",
    "    print()\n",
    "for i in range(4,0,-1):\n",
    "    for j in range(i):\n",
    "        print(j+1,end=\" \")\n",
    "    print()"
   ]
  },
  {
   "cell_type": "code",
   "execution_count": null,
   "metadata": {
    "id": "KfvAgRPON5uo"
   },
   "outputs": [],
   "source": []
  }
 ],
 "metadata": {
  "colab": {
   "authorship_tag": "ABX9TyPpzzkPc1QjA/girHT5yoFq",
   "name": "Class 6.ipynb",
   "provenance": []
  },
  "kernelspec": {
   "display_name": "Python 3",
   "language": "python",
   "name": "python3"
  },
  "language_info": {
   "codemirror_mode": {
    "name": "ipython",
    "version": 3
   },
   "file_extension": ".py",
   "mimetype": "text/x-python",
   "name": "python",
   "nbconvert_exporter": "python",
   "pygments_lexer": "ipython3",
   "version": "3.8.3"
  }
 },
 "nbformat": 4,
 "nbformat_minor": 1
}
