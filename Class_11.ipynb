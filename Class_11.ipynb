{
  "nbformat": 4,
  "nbformat_minor": 0,
  "metadata": {
    "colab": {
      "name": "Class 11.ipynb",
      "provenance": []
    },
    "kernelspec": {
      "name": "python3",
      "display_name": "Python 3"
    },
    "language_info": {
      "name": "python"
    }
  },
  "cells": [
    {
      "cell_type": "code",
      "metadata": {
        "id": "FKpZJyZe0fUN"
      },
      "source": [
        "import csv"
      ],
      "execution_count": null,
      "outputs": []
    },
    {
      "cell_type": "code",
      "metadata": {
        "id": "wZXGmXew6pyD"
      },
      "source": [
        "# !pip install csv"
      ],
      "execution_count": null,
      "outputs": []
    },
    {
      "cell_type": "code",
      "metadata": {
        "id": "YgZoTb712-rA"
      },
      "source": [
        "with open(\"competitions.csv\",\"w\") as f:\n",
        "  data_writer = csv.writer(f,delimiter=\",\")\n",
        "  data_writer.writerow([\"Year\", \"Event\",\"Winner\"])\n",
        "  data_writer.writerow([\"1995\", \"Best-Kept Lawn\",\"None\"])\n",
        "  data_writer.writerow([\"1999\", \"Gobstones\",\"Welch National\"])\n"
      ],
      "execution_count": null,
      "outputs": []
    },
    {
      "cell_type": "code",
      "metadata": {
        "colab": {
          "base_uri": "https://localhost:8080/",
          "height": 131
        },
        "id": "EDLdOVI-4R1J",
        "outputId": "e4ee79b6-d8ab-4e7a-962e-945feb6c9cd7"
      },
      "source": [
        "continued = \"\"\n",
        "with open(\"students.csv\",\"a\") as f:\n",
        "    data_writer = csv.writer(f,delimiter = \",\")\n",
        "    data_writer.writerow(['Name', 'Father Name', 'Age', 'Class'])\n",
        "while continued != 'q':\n",
        "  s_name = input(\"Enter Student Name : \")\n",
        "  s_f_name = input(\"Enter Student Father Name : \")\n",
        "  s_age = input(\"Enter Student Age : \")\n",
        "  s_class = input(\"Enter Student Class : \")\n",
        "  with open(\"students.csv\",\"a\") as f:\n",
        "    data_writer = csv.writer(f,delimiter = \",\")\n",
        "    data_writer.writerow([s_name, s_f_name, s_age, s_class])\n",
        "  continued = input(\"Press a to continue or q to exit\")"
      ],
      "execution_count": null,
      "outputs": [
        {
          "output_type": "error",
          "ename": "SyntaxError",
          "evalue": "ignored",
          "traceback": [
            "\u001b[0;36m  File \u001b[0;32m\"<ipython-input-17-5089b90c2ae4>\"\u001b[0;36m, line \u001b[0;32m2\u001b[0m\n\u001b[0;31m    with open(\"students.csv\",\"a\",newline=) as f:\u001b[0m\n\u001b[0m                                         ^\u001b[0m\n\u001b[0;31mSyntaxError\u001b[0m\u001b[0;31m:\u001b[0m invalid syntax\n"
          ]
        }
      ]
    },
    {
      "cell_type": "code",
      "metadata": {
        "colab": {
          "base_uri": "https://localhost:8080/",
          "height": 357
        },
        "id": "ulilX65H8abD",
        "outputId": "000b6b90-e233-497e-89bb-9a0ff735027f"
      },
      "source": [
        "data = []\n",
        "with open(\"students.csv\",\"r\") as f:\n",
        "    data_reader = csv.reader(f)\n",
        "    for i in data_reader:\n",
        "      for j in i:\n",
        "        if(j=='Affan'):\n",
        "          with open(\"students.csv\",'a') as f:\n",
        "            data_writer = csv.writer(f,delimiter=\",\")\n",
        "            data_writer.writerow(['Affan','Uzair','13','8'])          \n",
        "\n",
        "# data_reader = [\n",
        "#           ['Name', 'Father Name', 'Age', 'Class'],\n",
        "#           ['Umair', 'Shehzad', '24', '17'] ,\n",
        "#           ['Affan', 'Hashmi', '13', '8']     \n",
        "#     ]"
      ],
      "execution_count": null,
      "outputs": [
        {
          "output_type": "error",
          "ename": "KeyboardInterrupt",
          "evalue": "ignored",
          "traceback": [
            "\u001b[0;31m---------------------------------------------------------------------------\u001b[0m",
            "\u001b[0;31mKeyboardInterrupt\u001b[0m                         Traceback (most recent call last)",
            "\u001b[0;32m<ipython-input-28-16a82643c509>\u001b[0m in \u001b[0;36m<module>\u001b[0;34m()\u001b[0m\n\u001b[1;32m      5\u001b[0m       \u001b[0;32mfor\u001b[0m \u001b[0mj\u001b[0m \u001b[0;32min\u001b[0m \u001b[0mi\u001b[0m\u001b[0;34m:\u001b[0m\u001b[0;34m\u001b[0m\u001b[0;34m\u001b[0m\u001b[0m\n\u001b[1;32m      6\u001b[0m         \u001b[0;32mif\u001b[0m\u001b[0;34m(\u001b[0m\u001b[0mj\u001b[0m\u001b[0;34m==\u001b[0m\u001b[0;34m'Affan'\u001b[0m\u001b[0;34m)\u001b[0m\u001b[0;34m:\u001b[0m\u001b[0;34m\u001b[0m\u001b[0;34m\u001b[0m\u001b[0m\n\u001b[0;32m----> 7\u001b[0;31m           \u001b[0;32mwith\u001b[0m \u001b[0mopen\u001b[0m\u001b[0;34m(\u001b[0m\u001b[0;34m\"students.csv\"\u001b[0m\u001b[0;34m,\u001b[0m\u001b[0;34m'a'\u001b[0m\u001b[0;34m)\u001b[0m \u001b[0;32mas\u001b[0m \u001b[0mf\u001b[0m\u001b[0;34m:\u001b[0m\u001b[0;34m\u001b[0m\u001b[0;34m\u001b[0m\u001b[0m\n\u001b[0m\u001b[1;32m      8\u001b[0m             \u001b[0mdata_writer\u001b[0m \u001b[0;34m=\u001b[0m \u001b[0mcsv\u001b[0m\u001b[0;34m.\u001b[0m\u001b[0mwriter\u001b[0m\u001b[0;34m(\u001b[0m\u001b[0mf\u001b[0m\u001b[0;34m,\u001b[0m\u001b[0mdelimiter\u001b[0m\u001b[0;34m=\u001b[0m\u001b[0;34m\",\"\u001b[0m\u001b[0;34m)\u001b[0m\u001b[0;34m\u001b[0m\u001b[0;34m\u001b[0m\u001b[0m\n\u001b[1;32m      9\u001b[0m             \u001b[0mdata_writer\u001b[0m\u001b[0;34m.\u001b[0m\u001b[0mwriterow\u001b[0m\u001b[0;34m(\u001b[0m\u001b[0;34m[\u001b[0m\u001b[0;34m'Affan'\u001b[0m\u001b[0;34m,\u001b[0m\u001b[0;34m'Uzair'\u001b[0m\u001b[0;34m,\u001b[0m\u001b[0;34m'13'\u001b[0m\u001b[0;34m,\u001b[0m\u001b[0;34m'8'\u001b[0m\u001b[0;34m]\u001b[0m\u001b[0;34m)\u001b[0m\u001b[0;34m\u001b[0m\u001b[0;34m\u001b[0m\u001b[0m\n",
            "\u001b[0;32m/usr/lib/python3.7/_bootlocale.py\u001b[0m in \u001b[0;36mgetpreferredencoding\u001b[0;34m(do_setlocale)\u001b[0m\n\u001b[1;32m     31\u001b[0m                 \u001b[0;32mreturn\u001b[0m \u001b[0mlocale\u001b[0m\u001b[0;34m.\u001b[0m\u001b[0mgetpreferredencoding\u001b[0m\u001b[0;34m(\u001b[0m\u001b[0mdo_setlocale\u001b[0m\u001b[0;34m)\u001b[0m\u001b[0;34m\u001b[0m\u001b[0;34m\u001b[0m\u001b[0m\n\u001b[1;32m     32\u001b[0m     \u001b[0;32melse\u001b[0m\u001b[0;34m:\u001b[0m\u001b[0;34m\u001b[0m\u001b[0;34m\u001b[0m\u001b[0m\n\u001b[0;32m---> 33\u001b[0;31m         \u001b[0;32mdef\u001b[0m \u001b[0mgetpreferredencoding\u001b[0m\u001b[0;34m(\u001b[0m\u001b[0mdo_setlocale\u001b[0m\u001b[0;34m=\u001b[0m\u001b[0;32mTrue\u001b[0m\u001b[0;34m)\u001b[0m\u001b[0;34m:\u001b[0m\u001b[0;34m\u001b[0m\u001b[0;34m\u001b[0m\u001b[0m\n\u001b[0m\u001b[1;32m     34\u001b[0m             \u001b[0;32massert\u001b[0m \u001b[0;32mnot\u001b[0m \u001b[0mdo_setlocale\u001b[0m\u001b[0;34m\u001b[0m\u001b[0;34m\u001b[0m\u001b[0m\n\u001b[1;32m     35\u001b[0m             \u001b[0;32mif\u001b[0m \u001b[0msys\u001b[0m\u001b[0;34m.\u001b[0m\u001b[0mflags\u001b[0m\u001b[0;34m.\u001b[0m\u001b[0mutf8_mode\u001b[0m\u001b[0;34m:\u001b[0m\u001b[0;34m\u001b[0m\u001b[0;34m\u001b[0m\u001b[0m\n",
            "\u001b[0;31mKeyboardInterrupt\u001b[0m: "
          ]
        }
      ]
    },
    {
      "cell_type": "code",
      "metadata": {
        "colab": {
          "base_uri": "https://localhost:8080/"
        },
        "id": "TYpNWORa_M-h",
        "outputId": "88ad5cd0-d6f2-4537-d4c3-19390ca73eb7"
      },
      "source": [
        "print(data)"
      ],
      "execution_count": null,
      "outputs": [
        {
          "output_type": "stream",
          "text": [
            "[['Name', 'Father Name', 'Age', 'Class'], ['Umair', 'Shehzad', '24', '17'], ['Affan', 'Hashmi', '13', '8']]\n"
          ],
          "name": "stdout"
        }
      ]
    },
    {
      "cell_type": "code",
      "metadata": {
        "colab": {
          "base_uri": "https://localhost:8080/"
        },
        "id": "CG-3U0H9DZVp",
        "outputId": "c16cc1ad-7cce-47e4-d8b9-23b86686ea37"
      },
      "source": [
        "for i in data:\n",
        "  for j in i:\n",
        "    if(j=='Affan'):\n",
        "      i[1] = 'Uzair'\n",
        "      print(i)"
      ],
      "execution_count": null,
      "outputs": [
        {
          "output_type": "stream",
          "text": [
            "['Affan', 'Uzair', '13', '8']\n"
          ],
          "name": "stdout"
        }
      ]
    },
    {
      "cell_type": "code",
      "metadata": {
        "colab": {
          "base_uri": "https://localhost:8080/"
        },
        "id": "fgDDMCtRDhZw",
        "outputId": "e91a60f6-ef44-4635-f945-c291be695cbc"
      },
      "source": [
        "data"
      ],
      "execution_count": null,
      "outputs": [
        {
          "output_type": "execute_result",
          "data": {
            "text/plain": [
              "[['Name', 'Father Name', 'Age', 'Class'],\n",
              " ['Umair', 'Shehzad', '24', '17'],\n",
              " ['Affan', 'Uzair', '13', '8']]"
            ]
          },
          "metadata": {
            "tags": []
          },
          "execution_count": 24
        }
      ]
    },
    {
      "cell_type": "code",
      "metadata": {
        "id": "g-r9ifoADkCQ"
      },
      "source": [
        "with open('students.csv','w') as f:\n",
        "  data_writer = csv.writer(f,delimiter = \",\")\n",
        "  data_writer.writerows(data)"
      ],
      "execution_count": null,
      "outputs": []
    },
    {
      "cell_type": "code",
      "metadata": {
        "id": "WSUqK6auD_DQ"
      },
      "source": [
        "data = []\n",
        "\n",
        "with open(\"students.csv\",\"r\") as f:\n",
        "    data_reader = csv.reader(f)\n",
        "    for i in data_reader:\n",
        "      data.append(i) \n",
        "\n",
        "for i in data:\n",
        "  for j in i:\n",
        "    if(j=='Affan'):\n",
        "      i[1] = 'Uzair'\n",
        "\n",
        "with open('students.csv','w') as f:\n",
        "  data_writer = csv.writer(f,delimiter = \",\")\n",
        "  data_writer.writerows(data)"
      ],
      "execution_count": null,
      "outputs": []
    },
    {
      "cell_type": "code",
      "metadata": {
        "id": "hLPNkOiEJAhP"
      },
      "source": [
        "# !pip install json\n",
        "import json\n",
        "user_data = {\n",
        "    'userName' : 'Umair',\n",
        "    'userFatherName' : 'Shehzad',\n",
        "    'userAge' : '24',\n",
        "    'userEmail' : 'umair42795@gmail.com'\n",
        "}\n",
        "with open('users.json','w') as f:\n",
        "  json.dump(user_data,f)"
      ],
      "execution_count": null,
      "outputs": []
    },
    {
      "cell_type": "code",
      "metadata": {
        "colab": {
          "base_uri": "https://localhost:8080/"
        },
        "id": "-LEFuQ0uKALI",
        "outputId": "c771a43a-58ae-4545-a106-8aecca30401b"
      },
      "source": [
        "with open('users.json','r') as f:\n",
        "  user_data_r = json.load(f)\n",
        "  print(user_data_r)"
      ],
      "execution_count": null,
      "outputs": [
        {
          "output_type": "stream",
          "text": [
            "{'userName': 'Umair', 'userFatherName': 'Shehzad', 'userAge': '24', 'userEmail': 'umair42795@gmail.com'}\n"
          ],
          "name": "stdout"
        }
      ]
    },
    {
      "cell_type": "code",
      "metadata": {
        "id": "YI0WCcsRK-MH"
      },
      "source": [
        ""
      ],
      "execution_count": null,
      "outputs": []
    }
  ]
}