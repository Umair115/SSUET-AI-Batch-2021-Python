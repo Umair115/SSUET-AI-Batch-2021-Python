{
 "cells": [
  {
   "cell_type": "code",
   "execution_count": 15,
   "metadata": {},
   "outputs": [],
   "source": [
    "class Patient():\n",
    "    def __init__(self,first_name,last_name):\n",
    "        self.firstname = first_name\n",
    "        self.lastname = last_name\n",
    "        \n",
    "    def showName(self):\n",
    "        print(\"Name is \",self.firstname,self.lastname)"
   ]
  },
  {
   "cell_type": "code",
   "execution_count": 17,
   "metadata": {},
   "outputs": [],
   "source": [
    "patient_1 = Patient('Umair','Shehzad')"
   ]
  },
  {
   "cell_type": "code",
   "execution_count": 18,
   "metadata": {},
   "outputs": [],
   "source": [
    "patient_2 = Patient('Ammar','Shehzad')"
   ]
  },
  {
   "cell_type": "code",
   "execution_count": 19,
   "metadata": {},
   "outputs": [],
   "source": [
    "patient_3 = Patient('Abdullah','Shehzad')"
   ]
  },
  {
   "cell_type": "code",
   "execution_count": 20,
   "metadata": {},
   "outputs": [],
   "source": [
    "patient_4 = Patient('Ammar','Shehzad')"
   ]
  },
  {
   "cell_type": "code",
   "execution_count": 21,
   "metadata": {},
   "outputs": [
    {
     "name": "stdout",
     "output_type": "stream",
     "text": [
      "Name is  Umair Shehzad\n",
      "Name is  Ammar Shehzad\n",
      "Name is  Abdullah Shehzad\n",
      "Name is  Ammar Shehzad\n"
     ]
    }
   ],
   "source": [
    "patient_1.showName()\n",
    "patient_2.showName()\n",
    "patient_3.showName()\n",
    "patient_4.showName()"
   ]
  },
  {
   "cell_type": "markdown",
   "metadata": {},
   "source": [
    "1. First Name\n",
    "2. Last Name\n",
    "3. Age\n",
    "4. CNIC\n",
    "5. Phone\n",
    "6. Disease\n",
    "7. Treatment\n",
    "8. Doctor Assigned"
   ]
  },
  {
   "cell_type": "code",
   "execution_count": 50,
   "metadata": {},
   "outputs": [],
   "source": [
    "class Patient():\n",
    "    def __init__(self,first_name,last_name, age, cnic, phone, disease, treatment, doctor):\n",
    "        self.firstname = first_name\n",
    "        self.lastname = last_name\n",
    "        self.age = age\n",
    "        self.cnic = cnic\n",
    "        self.phone = phone\n",
    "        self.disease = disease\n",
    "        self.treatment = treatment\n",
    "        self.doctor = doctor\n",
    "        self.inputValue = \"\"\n",
    "        \n",
    "    def showWhole(self):\n",
    "        print(\"Full Name: \",self.firstname, self.lastname)\n",
    "        print(\"Age: \",self.age)\n",
    "        print(\"Cnic: \",self.cnic)\n",
    "        print(\"Disease: \",self.disease)\n",
    "        print(\"Phone: \",self.phone)\n",
    "        print(\"Treatment: \",self.treatment)\n",
    "        print(\"Doctor: \",self.doctor)\n",
    "        print(\"InputValue: \",self.inputValue)\n",
    "        \n",
    "    def showName(self):\n",
    "        print(\"Full Name: \",self.firstname, self.lastname)\n",
    "    def showAge(self):\n",
    "        print(\"Age: \",self.age)\n",
    "    def showCnic(self):\n",
    "        print(\"Cnic: \",self.cnic)\n",
    "    def showDisease(self):\n",
    "        print(\"Disease: \",self.disease)\n",
    "    def showPhone(self):\n",
    "        print(\"Phone: \",self.phone)\n",
    "    def changePhone(self,new_phone):\n",
    "        self.phone = new_phone\n",
    "    def updateInputValue(self):\n",
    "        self.inputValue = input(\"ENter ANy Value\")"
   ]
  },
  {
   "cell_type": "code",
   "execution_count": 51,
   "metadata": {},
   "outputs": [],
   "source": [
    "new_patient = Patient('Umair','Shehzad',24,\"42301-3838749-3\",\"034312794121\",\"NONE\",\"NONE\",\"NONE\")"
   ]
  },
  {
   "cell_type": "code",
   "execution_count": 52,
   "metadata": {},
   "outputs": [
    {
     "name": "stdout",
     "output_type": "stream",
     "text": [
      "Umair\n"
     ]
    }
   ],
   "source": [
    "print(new_patient.firstname)"
   ]
  },
  {
   "cell_type": "code",
   "execution_count": 53,
   "metadata": {},
   "outputs": [],
   "source": [
    "new_patient.disease = \"Cough\""
   ]
  },
  {
   "cell_type": "code",
   "execution_count": 54,
   "metadata": {},
   "outputs": [],
   "source": [
    "new_patient.doctor = \"Umair\""
   ]
  },
  {
   "cell_type": "code",
   "execution_count": 55,
   "metadata": {},
   "outputs": [],
   "source": [
    "new_patient.treatment = \"Panadol CF\""
   ]
  },
  {
   "cell_type": "code",
   "execution_count": 60,
   "metadata": {},
   "outputs": [
    {
     "name": "stdout",
     "output_type": "stream",
     "text": [
      "Full Name:  Umair Shehzad\n",
      "Age:  24\n",
      "Cnic:  42301-3838749-3\n",
      "Disease:  Cough\n",
      "Phone:  03352899624\n",
      "Treatment:  Panadol CF\n",
      "Doctor:  Umair\n",
      "InputValue:  Test\n"
     ]
    }
   ],
   "source": [
    "new_patient.showWhole()"
   ]
  },
  {
   "cell_type": "code",
   "execution_count": 57,
   "metadata": {},
   "outputs": [
    {
     "name": "stdout",
     "output_type": "stream",
     "text": [
      "ENter ANy ValueTest\n"
     ]
    }
   ],
   "source": [
    "new_patient.updateInputValue()"
   ]
  },
  {
   "cell_type": "code",
   "execution_count": 59,
   "metadata": {},
   "outputs": [],
   "source": [
    "new_patient.changePhone(\"03352899624\")"
   ]
  },
  {
   "cell_type": "code",
   "execution_count": null,
   "metadata": {},
   "outputs": [],
   "source": []
  }
 ],
 "metadata": {
  "kernelspec": {
   "display_name": "Python 3",
   "language": "python",
   "name": "python3"
  },
  "language_info": {
   "codemirror_mode": {
    "name": "ipython",
    "version": 3
   },
   "file_extension": ".py",
   "mimetype": "text/x-python",
   "name": "python",
   "nbconvert_exporter": "python",
   "pygments_lexer": "ipython3",
   "version": "3.8.3"
  }
 },
 "nbformat": 4,
 "nbformat_minor": 4
}
