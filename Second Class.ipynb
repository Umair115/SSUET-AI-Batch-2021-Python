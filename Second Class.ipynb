{
 "cells": [
  {
   "cell_type": "code",
   "execution_count": 1,
   "metadata": {},
   "outputs": [
    {
     "name": "stdout",
     "output_type": "stream",
     "text": [
      "Hello World!\n"
     ]
    }
   ],
   "source": [
    "print(\"Hello World!\")"
   ]
  },
  {
   "cell_type": "code",
   "execution_count": 2,
   "metadata": {},
   "outputs": [],
   "source": [
    "name = \"Umair\""
   ]
  },
  {
   "cell_type": "code",
   "execution_count": 3,
   "metadata": {},
   "outputs": [
    {
     "name": "stdout",
     "output_type": "stream",
     "text": [
      "Umair\n"
     ]
    }
   ],
   "source": [
    "print(name)"
   ]
  },
  {
   "cell_type": "code",
   "execution_count": 4,
   "metadata": {},
   "outputs": [],
   "source": [
    "age = 24"
   ]
  },
  {
   "cell_type": "code",
   "execution_count": 5,
   "metadata": {},
   "outputs": [
    {
     "name": "stdout",
     "output_type": "stream",
     "text": [
      "24\n"
     ]
    }
   ],
   "source": [
    "print(age)"
   ]
  },
  {
   "cell_type": "code",
   "execution_count": 6,
   "metadata": {},
   "outputs": [],
   "source": [
    "name = \"Umair\"\n",
    "father_name = \"Shehzad\""
   ]
  },
  {
   "cell_type": "code",
   "execution_count": 7,
   "metadata": {},
   "outputs": [],
   "source": [
    "full_name = name + father_name"
   ]
  },
  {
   "cell_type": "code",
   "execution_count": 8,
   "metadata": {},
   "outputs": [
    {
     "data": {
      "text/plain": [
       "'UmairShehzad'"
      ]
     },
     "execution_count": 8,
     "metadata": {},
     "output_type": "execute_result"
    }
   ],
   "source": [
    "full_name"
   ]
  },
  {
   "cell_type": "code",
   "execution_count": 9,
   "metadata": {},
   "outputs": [
    {
     "data": {
      "text/plain": [
       "1"
      ]
     },
     "execution_count": 9,
     "metadata": {},
     "output_type": "execute_result"
    }
   ],
   "source": [
    "10 % 3"
   ]
  },
  {
   "cell_type": "code",
   "execution_count": 10,
   "metadata": {},
   "outputs": [
    {
     "data": {
      "text/plain": [
       "3"
      ]
     },
     "execution_count": 10,
     "metadata": {},
     "output_type": "execute_result"
    }
   ],
   "source": [
    "10 // 3"
   ]
  },
  {
   "cell_type": "code",
   "execution_count": 19,
   "metadata": {},
   "outputs": [
    {
     "name": "stdout",
     "output_type": "stream",
     "text": [
      "ZTest\n",
      "AFter ELse And If\n"
     ]
    }
   ],
   "source": [
    "age = 25\n",
    "\n",
    "if age == 18:\n",
    "    print(\"Hello World\")\n",
    "    print(\"Test\")\n",
    "else:\n",
    "    print(\"ZTest\")\n",
    "\n",
    "print(\"AFter ELse And If\")"
   ]
  },
  {
   "cell_type": "code",
   "execution_count": 27,
   "metadata": {},
   "outputs": [
    {
     "name": "stdout",
     "output_type": "stream",
     "text": [
      "Full Name Matched!\n"
     ]
    }
   ],
   "source": [
    "full_name = \"MarkMyers\"\n",
    "if (full_name != (\"Mark\" + \" \" + \"Myers\")):\n",
    "    print(\"Full Name Matched!\")"
   ]
  },
  {
   "cell_type": "code",
   "execution_count": 32,
   "metadata": {},
   "outputs": [],
   "source": [
    "num1 = 10\n",
    "num2 = 15\n",
    "num3 = 10\n",
    "num4 = 9\n",
    "num5 = 12"
   ]
  },
  {
   "cell_type": "code",
   "execution_count": 29,
   "metadata": {},
   "outputs": [
    {
     "name": "stdout",
     "output_type": "stream",
     "text": [
      "Num2 is greator\n"
     ]
    }
   ],
   "source": [
    "if(num1 > num2):\n",
    "    print(\"Num1 is greator\")\n",
    "else:\n",
    "    print(\"Num2 is greator\")"
   ]
  },
  {
   "cell_type": "code",
   "execution_count": 30,
   "metadata": {},
   "outputs": [
    {
     "name": "stdout",
     "output_type": "stream",
     "text": [
      "Num1 is lesser\n"
     ]
    }
   ],
   "source": [
    "if(num1 < num2):\n",
    "    print(\"Num1 is lesser\")\n",
    "else:\n",
    "    print(\"Num2 is lesser\")"
   ]
  },
  {
   "cell_type": "code",
   "execution_count": 33,
   "metadata": {},
   "outputs": [
    {
     "name": "stdout",
     "output_type": "stream",
     "text": [
      "OK!\n"
     ]
    }
   ],
   "source": [
    "if(num1 <= num3):\n",
    "    print(\"OK!\")\n",
    "else:\n",
    "    print(\"Not Ok!\")"
   ]
  },
  {
   "cell_type": "code",
   "execution_count": 34,
   "metadata": {},
   "outputs": [
    {
     "name": "stdout",
     "output_type": "stream",
     "text": [
      "Okay\n"
     ]
    }
   ],
   "source": [
    "if(num5 >= num3):\n",
    "    print(\"Okay\")"
   ]
  },
  {
   "cell_type": "code",
   "execution_count": 36,
   "metadata": {},
   "outputs": [
    {
     "name": "stdout",
     "output_type": "stream",
     "text": [
      "Done From CaPUmair\n",
      "Hello From Umair\n"
     ]
    }
   ],
   "source": [
    "if('Umair' == 'umair'):\n",
    "    print(\"Done from Umair\")\n",
    "if('ammar' == 'umair'):\n",
    "    print(\"Done From ammar\")\n",
    "if('umair' != 'Umair'):\n",
    "    print(\"Done From CaPUmair\")\n",
    "if('Umair' == 'Umair'):\n",
    "    print('Hello From Umair')"
   ]
  },
  {
   "cell_type": "code",
   "execution_count": 37,
   "metadata": {},
   "outputs": [
    {
     "name": "stdout",
     "output_type": "stream",
     "text": [
      "Cond 3 true\n"
     ]
    }
   ],
   "source": [
    "if('Umair' == 'umair'):\n",
    "    print(\"Cond 1 true\")\n",
    "elif('Umair' == 'ammar'):\n",
    "    print(\"Cond 2 true\")\n",
    "elif('Umair' == 'Umair'):\n",
    "    print('Cond 3 true')\n",
    "else:\n",
    "    print('0 Cond True')"
   ]
  },
  {
   "cell_type": "code",
   "execution_count": 39,
   "metadata": {},
   "outputs": [
    {
     "name": "stdout",
     "output_type": "stream",
     "text": [
      "Num is 2\n"
     ]
    }
   ],
   "source": [
    "num = 2\n",
    "\n",
    "if(num == 0):\n",
    "    print(\"Num is 0\")\n",
    "elif(num == 1):\n",
    "    print(\"Num is 1\")\n",
    "elif(num == 2):\n",
    "    print(\"Num is 2\")\n",
    "elif(num == 3):\n",
    "    print(\"Num is 3\")\n",
    "elif(num == 4):\n",
    "    print(\"Num is 4\")\n",
    "elif(num == 5):\n",
    "    print(\"Num is 5\")\n",
    "elif(num == 6):\n",
    "    print(\"Num is 6\")\n",
    "elif(num == 7):\n",
    "    print(\"Num is 7\")\n",
    "    "
   ]
  },
  {
   "cell_type": "code",
   "execution_count": 40,
   "metadata": {},
   "outputs": [
    {
     "name": "stdout",
     "output_type": "stream",
     "text": [
      "Name Matched!\n",
      "Password Matched!\n"
     ]
    }
   ],
   "source": [
    "name = 'Umair'\n",
    "password = 'umair123'\n",
    "if(name == 'Umair'):\n",
    "    print(\"Name Matched!\")\n",
    "if(password == 'umair123'):\n",
    "    print(\"Password Matched!\")"
   ]
  },
  {
   "cell_type": "code",
   "execution_count": 42,
   "metadata": {},
   "outputs": [],
   "source": [
    "if(name == 'Umair' and password == 'Umair123'):\n",
    "    print(\"Name Matched! \\nPassword Matched!\")"
   ]
  },
  {
   "cell_type": "code",
   "execution_count": 45,
   "metadata": {},
   "outputs": [],
   "source": [
    "user1 = 'Mustafa'\n",
    "\n",
    "if(user1 == 'Umair' or user1 == 'Ammar'):\n",
    "    print(\"Got Access\")"
   ]
  },
  {
   "cell_type": "code",
   "execution_count": 47,
   "metadata": {},
   "outputs": [
    {
     "name": "stdout",
     "output_type": "stream",
     "text": [
      "recruit him!\n"
     ]
    }
   ],
   "source": [
    "weight = 300\n",
    "time = 6\n",
    "height = 5.8\n",
    "\n",
    "if(weight >= 300):\n",
    "    if(time <= 6):\n",
    "        if(height >= 5.8):\n",
    "            print(\"recruit him!\")"
   ]
  },
  {
   "cell_type": "code",
   "execution_count": 48,
   "metadata": {},
   "outputs": [
    {
     "name": "stdout",
     "output_type": "stream",
     "text": [
      "Recuret Him\n"
     ]
    }
   ],
   "source": [
    "if weight <= 300 and time >= 6 and height <= 5.8:\n",
    "    print (\"Recuret Him\")"
   ]
  },
  {
   "cell_type": "code",
   "execution_count": 53,
   "metadata": {},
   "outputs": [
    {
     "name": "stdout",
     "output_type": "stream",
     "text": [
      "Very fast\n"
     ]
    }
   ],
   "source": [
    "if(weight >= 300): #weight = 300, time = 6\n",
    "    if(time <= 6):\n",
    "        print(\"Very fast\")\n",
    "    elif(time > 6):\n",
    "        print(\"Fine\")\n",
    "    else:\n",
    "        print(\"Slow\")\n",
    "else:\n",
    "    print(\"Weight was greator than 300\")"
   ]
  },
  {
   "cell_type": "code",
   "execution_count": null,
   "metadata": {},
   "outputs": [],
   "source": []
  }
 ],
 "metadata": {
  "kernelspec": {
   "display_name": "Python 3",
   "language": "python",
   "name": "python3"
  },
  "language_info": {
   "codemirror_mode": {
    "name": "ipython",
    "version": 3
   },
   "file_extension": ".py",
   "mimetype": "text/x-python",
   "name": "python",
   "nbconvert_exporter": "python",
   "pygments_lexer": "ipython3",
   "version": "3.8.3"
  }
 },
 "nbformat": 4,
 "nbformat_minor": 4
}
